{
  "nbformat": 4,
  "nbformat_minor": 0,
  "metadata": {
    "colab": {
      "name": "Movie Recommendation System using Collaborative Filtereing.ipynb",
      "provenance": []
    },
    "kernelspec": {
      "name": "python3",
      "display_name": "Python 3"
    }
  },
  "cells": [
    {
      "cell_type": "markdown",
      "metadata": {
        "id": "qLJC6SecXwoF",
        "colab_type": "text"
      },
      "source": [
        "# **Task 1 : Introduction**"
      ]
    },
    {
      "cell_type": "markdown",
      "metadata": {
        "id": "p4hHFqXkXWml",
        "colab_type": "text"
      },
      "source": [
        "**1.1: Installing Libraries**"
      ]
    },
    {
      "cell_type": "code",
      "metadata": {
        "id": "R5ioV65tF8-o",
        "colab_type": "code",
        "colab": {
          "base_uri": "https://localhost:8080/",
          "height": 362
        },
        "outputId": "b3705e25-b322-45d7-880d-ba3686d075c8"
      },
      "source": [
        "!pip install pandas matplotlib numpy scikit-surprise"
      ],
      "execution_count": 1,
      "outputs": [
        {
          "output_type": "stream",
          "text": [
            "Requirement already satisfied: pandas in /usr/local/lib/python3.6/dist-packages (1.0.5)\n",
            "Requirement already satisfied: matplotlib in /usr/local/lib/python3.6/dist-packages (3.2.2)\n",
            "Requirement already satisfied: numpy in /usr/local/lib/python3.6/dist-packages (1.18.5)\n",
            "Collecting scikit-surprise\n",
            "\u001b[?25l  Downloading https://files.pythonhosted.org/packages/97/37/5d334adaf5ddd65da99fc65f6507e0e4599d092ba048f4302fe8775619e8/scikit-surprise-1.1.1.tar.gz (11.8MB)\n",
            "\u001b[K     |████████████████████████████████| 11.8MB 2.6MB/s \n",
            "\u001b[?25hRequirement already satisfied: python-dateutil>=2.6.1 in /usr/local/lib/python3.6/dist-packages (from pandas) (2.8.1)\n",
            "Requirement already satisfied: pytz>=2017.2 in /usr/local/lib/python3.6/dist-packages (from pandas) (2018.9)\n",
            "Requirement already satisfied: kiwisolver>=1.0.1 in /usr/local/lib/python3.6/dist-packages (from matplotlib) (1.2.0)\n",
            "Requirement already satisfied: cycler>=0.10 in /usr/local/lib/python3.6/dist-packages (from matplotlib) (0.10.0)\n",
            "Requirement already satisfied: pyparsing!=2.0.4,!=2.1.2,!=2.1.6,>=2.0.1 in /usr/local/lib/python3.6/dist-packages (from matplotlib) (2.4.7)\n",
            "Requirement already satisfied: joblib>=0.11 in /usr/local/lib/python3.6/dist-packages (from scikit-surprise) (0.16.0)\n",
            "Requirement already satisfied: scipy>=1.0.0 in /usr/local/lib/python3.6/dist-packages (from scikit-surprise) (1.4.1)\n",
            "Requirement already satisfied: six>=1.10.0 in /usr/local/lib/python3.6/dist-packages (from scikit-surprise) (1.15.0)\n",
            "Building wheels for collected packages: scikit-surprise\n",
            "  Building wheel for scikit-surprise (setup.py) ... \u001b[?25l\u001b[?25hdone\n",
            "  Created wheel for scikit-surprise: filename=scikit_surprise-1.1.1-cp36-cp36m-linux_x86_64.whl size=1670903 sha256=70d6f22efe5f3d01c279e1fca9b8e5e090524f7aea630532ce5c1f7633f51b44\n",
            "  Stored in directory: /root/.cache/pip/wheels/78/9c/3d/41b419c9d2aff5b6e2b4c0fc8d25c538202834058f9ed110d0\n",
            "Successfully built scikit-surprise\n",
            "Installing collected packages: scikit-surprise\n",
            "Successfully installed scikit-surprise-1.1.1\n"
          ],
          "name": "stdout"
        }
      ]
    },
    {
      "cell_type": "markdown",
      "metadata": {
        "id": "GIYuMU6gXhrs",
        "colab_type": "text"
      },
      "source": [
        "**1.2: Importing Libraries**"
      ]
    },
    {
      "cell_type": "code",
      "metadata": {
        "id": "nQfWknUNGR_U",
        "colab_type": "code",
        "colab": {}
      },
      "source": [
        "import pandas as pd\n",
        "from surprise import Reader, Dataset, SVD\n",
        "from surprise.accuracy import rmse, mae\n",
        "from surprise.model_selection import cross_validate"
      ],
      "execution_count": 2,
      "outputs": []
    },
    {
      "cell_type": "markdown",
      "metadata": {
        "id": "CzW7UWOIYDYL",
        "colab_type": "text"
      },
      "source": [
        "# **Task 2 : Importing Data**"
      ]
    },
    {
      "cell_type": "markdown",
      "metadata": {
        "id": "qhpyzBlFYJxK",
        "colab_type": "text"
      },
      "source": [
        "**2.1: Importing the Data**"
      ]
    },
    {
      "cell_type": "code",
      "metadata": {
        "id": "lqaL1da6GuyT",
        "colab_type": "code",
        "colab": {
          "base_uri": "https://localhost:8080/",
          "height": 187
        },
        "outputId": "c7f94fe1-6e22-48f7-dec9-809f721e116a"
      },
      "source": [
        "path = 'https://raw.githubusercontent.com/gourisnair/Datasets/master/ratings.csv'\n",
        "df = pd.read_csv(path)\n",
        "df.head()"
      ],
      "execution_count": 4,
      "outputs": [
        {
          "output_type": "execute_result",
          "data": {
            "text/html": [
              "<div>\n",
              "<style scoped>\n",
              "    .dataframe tbody tr th:only-of-type {\n",
              "        vertical-align: middle;\n",
              "    }\n",
              "\n",
              "    .dataframe tbody tr th {\n",
              "        vertical-align: top;\n",
              "    }\n",
              "\n",
              "    .dataframe thead th {\n",
              "        text-align: right;\n",
              "    }\n",
              "</style>\n",
              "<table border=\"1\" class=\"dataframe\">\n",
              "  <thead>\n",
              "    <tr style=\"text-align: right;\">\n",
              "      <th></th>\n",
              "      <th>userId</th>\n",
              "      <th>movieId</th>\n",
              "      <th>rating</th>\n",
              "      <th>timestamp</th>\n",
              "    </tr>\n",
              "  </thead>\n",
              "  <tbody>\n",
              "    <tr>\n",
              "      <th>0</th>\n",
              "      <td>1</td>\n",
              "      <td>1</td>\n",
              "      <td>4.0</td>\n",
              "      <td>964982703</td>\n",
              "    </tr>\n",
              "    <tr>\n",
              "      <th>1</th>\n",
              "      <td>1</td>\n",
              "      <td>3</td>\n",
              "      <td>4.0</td>\n",
              "      <td>964981247</td>\n",
              "    </tr>\n",
              "    <tr>\n",
              "      <th>2</th>\n",
              "      <td>1</td>\n",
              "      <td>6</td>\n",
              "      <td>4.0</td>\n",
              "      <td>964982224</td>\n",
              "    </tr>\n",
              "    <tr>\n",
              "      <th>3</th>\n",
              "      <td>1</td>\n",
              "      <td>47</td>\n",
              "      <td>5.0</td>\n",
              "      <td>964983815</td>\n",
              "    </tr>\n",
              "    <tr>\n",
              "      <th>4</th>\n",
              "      <td>1</td>\n",
              "      <td>50</td>\n",
              "      <td>5.0</td>\n",
              "      <td>964982931</td>\n",
              "    </tr>\n",
              "  </tbody>\n",
              "</table>\n",
              "</div>"
            ],
            "text/plain": [
              "   userId  movieId  rating  timestamp\n",
              "0       1        1     4.0  964982703\n",
              "1       1        3     4.0  964981247\n",
              "2       1        6     4.0  964982224\n",
              "3       1       47     5.0  964983815\n",
              "4       1       50     5.0  964982931"
            ]
          },
          "metadata": {
            "tags": []
          },
          "execution_count": 4
        }
      ]
    },
    {
      "cell_type": "markdown",
      "metadata": {
        "id": "tIP-JkjuYQEL",
        "colab_type": "text"
      },
      "source": [
        "**2.2: Dropping timestamp**"
      ]
    },
    {
      "cell_type": "code",
      "metadata": {
        "id": "-jyEuOspSLQp",
        "colab_type": "code",
        "colab": {
          "base_uri": "https://localhost:8080/",
          "height": 187
        },
        "outputId": "be33ac14-3240-46aa-dfac-70a3300ce22a"
      },
      "source": [
        "df.drop('timestamp', axis = 1, inplace = True)\n",
        "df.head()"
      ],
      "execution_count": 6,
      "outputs": [
        {
          "output_type": "execute_result",
          "data": {
            "text/html": [
              "<div>\n",
              "<style scoped>\n",
              "    .dataframe tbody tr th:only-of-type {\n",
              "        vertical-align: middle;\n",
              "    }\n",
              "\n",
              "    .dataframe tbody tr th {\n",
              "        vertical-align: top;\n",
              "    }\n",
              "\n",
              "    .dataframe thead th {\n",
              "        text-align: right;\n",
              "    }\n",
              "</style>\n",
              "<table border=\"1\" class=\"dataframe\">\n",
              "  <thead>\n",
              "    <tr style=\"text-align: right;\">\n",
              "      <th></th>\n",
              "      <th>userId</th>\n",
              "      <th>movieId</th>\n",
              "      <th>rating</th>\n",
              "    </tr>\n",
              "  </thead>\n",
              "  <tbody>\n",
              "    <tr>\n",
              "      <th>0</th>\n",
              "      <td>1</td>\n",
              "      <td>1</td>\n",
              "      <td>4.0</td>\n",
              "    </tr>\n",
              "    <tr>\n",
              "      <th>1</th>\n",
              "      <td>1</td>\n",
              "      <td>3</td>\n",
              "      <td>4.0</td>\n",
              "    </tr>\n",
              "    <tr>\n",
              "      <th>2</th>\n",
              "      <td>1</td>\n",
              "      <td>6</td>\n",
              "      <td>4.0</td>\n",
              "    </tr>\n",
              "    <tr>\n",
              "      <th>3</th>\n",
              "      <td>1</td>\n",
              "      <td>47</td>\n",
              "      <td>5.0</td>\n",
              "    </tr>\n",
              "    <tr>\n",
              "      <th>4</th>\n",
              "      <td>1</td>\n",
              "      <td>50</td>\n",
              "      <td>5.0</td>\n",
              "    </tr>\n",
              "  </tbody>\n",
              "</table>\n",
              "</div>"
            ],
            "text/plain": [
              "   userId  movieId  rating\n",
              "0       1        1     4.0\n",
              "1       1        3     4.0\n",
              "2       1        6     4.0\n",
              "3       1       47     5.0\n",
              "4       1       50     5.0"
            ]
          },
          "metadata": {
            "tags": []
          },
          "execution_count": 6
        }
      ]
    },
    {
      "cell_type": "markdown",
      "metadata": {
        "id": "-jGWgQJcYZWz",
        "colab_type": "text"
      },
      "source": [
        "**2.3: Check for Missing Data**"
      ]
    },
    {
      "cell_type": "code",
      "metadata": {
        "id": "27sWU2iOTXj5",
        "colab_type": "code",
        "colab": {
          "base_uri": "https://localhost:8080/",
          "height": 82
        },
        "outputId": "cb187a6c-db0b-44a2-8826-10e0a12f7982"
      },
      "source": [
        "df.isna().sum()"
      ],
      "execution_count": 7,
      "outputs": [
        {
          "output_type": "execute_result",
          "data": {
            "text/plain": [
              "userId     0\n",
              "movieId    0\n",
              "rating     0\n",
              "dtype: int64"
            ]
          },
          "metadata": {
            "tags": []
          },
          "execution_count": 7
        }
      ]
    },
    {
      "cell_type": "markdown",
      "metadata": {
        "id": "xJ60KKurYhwR",
        "colab_type": "text"
      },
      "source": [
        "# **Task 3 : EDA(Exploratory Data Analysis)**"
      ]
    },
    {
      "cell_type": "markdown",
      "metadata": {
        "id": "gB2aSWwWYqc4",
        "colab_type": "text"
      },
      "source": [
        "**3.1: Number of movies/users**"
      ]
    },
    {
      "cell_type": "code",
      "metadata": {
        "id": "BC1qWEOWTdDd",
        "colab_type": "code",
        "colab": {
          "base_uri": "https://localhost:8080/",
          "height": 49
        },
        "outputId": "e4121156-3258-4d38-a19c-e4f9b7ef5cc1"
      },
      "source": [
        "n_movies = df['movieId'].nunique()\n",
        "n_users = df['userId'].nunique()\n",
        "print(n_movies)\n",
        "print(n_users)"
      ],
      "execution_count": 9,
      "outputs": [
        {
          "output_type": "stream",
          "text": [
            "9724\n",
            "610\n"
          ],
          "name": "stdout"
        }
      ]
    },
    {
      "cell_type": "markdown",
      "metadata": {
        "id": "cS5pSET4ZMFS",
        "colab_type": "text"
      },
      "source": [
        "**3.2: Sparsity of our data**"
      ]
    },
    {
      "cell_type": "markdown",
      "metadata": {
        "id": "Cw7kYgHhafwX",
        "colab_type": "text"
      },
      "source": [
        "Sparsity (%) = (No of missing values/ (Total Values))*100\n"
      ]
    },
    {
      "cell_type": "code",
      "metadata": {
        "id": "a3A_dXEiZDNE",
        "colab_type": "code",
        "colab": {
          "base_uri": "https://localhost:8080/",
          "height": 32
        },
        "outputId": "03af4035-9808-4d58-d0fc-a76fbe7c11bc"
      },
      "source": [
        "available_ratings = df['rating'].count()\n",
        "total_ratings = n_movies*n_users\n",
        "missing_ratings = total_ratings - available_ratings\n",
        "sparsity = (missing_ratings / total_ratings)*100\n",
        "sparsity"
      ],
      "execution_count": 10,
      "outputs": [
        {
          "output_type": "execute_result",
          "data": {
            "text/plain": [
              "98.30003169443864"
            ]
          },
          "metadata": {
            "tags": []
          },
          "execution_count": 10
        }
      ]
    },
    {
      "cell_type": "markdown",
      "metadata": {
        "id": "xY0ZzmNnbZSJ",
        "colab_type": "text"
      },
      "source": [
        "**3.3: Ratings Distribution**"
      ]
    },
    {
      "cell_type": "code",
      "metadata": {
        "id": "JSIX271Vad2s",
        "colab_type": "code",
        "colab": {
          "base_uri": "https://localhost:8080/",
          "height": 287
        },
        "outputId": "ecb19126-2210-4c48-bfc9-30a8a859062b"
      },
      "source": [
        "df['rating'].value_counts().plot(kind = 'bar')"
      ],
      "execution_count": 11,
      "outputs": [
        {
          "output_type": "execute_result",
          "data": {
            "text/plain": [
              "<matplotlib.axes._subplots.AxesSubplot at 0x7fb195d4ea58>"
            ]
          },
          "metadata": {
            "tags": []
          },
          "execution_count": 11
        },
        {
          "output_type": "display_data",
          "data": {
            "image/png": "[encoded data removed]",
            "text/plain": [
              "<Figure size 432x288 with 1 Axes>"
            ]
          },
          "metadata": {
            "tags": [],
            "needs_background": "light"
          }
        }
      ]
    },
    {
      "cell_type": "markdown",
      "metadata": {
        "id": "udzIIOMAbkWH",
        "colab_type": "text"
      },
      "source": [
        "# **Task 4 : Dimentionality Reduction**"
      ]
    },
    {
      "cell_type": "markdown",
      "metadata": {
        "id": "mvyMM9d9dzPz",
        "colab_type": "text"
      },
      "source": [
        "**4.1: Filter movies with less than 3 ratings**"
      ]
    },
    {
      "cell_type": "code",
      "metadata": {
        "id": "GZ5UiSRsbYLW",
        "colab_type": "code",
        "colab": {
          "base_uri": "https://localhost:8080/",
          "height": 52
        },
        "outputId": "a079fb63-101c-4d0c-bae5-9c00937532d4"
      },
      "source": [
        "filter_movies = df['movieId'].value_counts() > 3\n",
        "filter_movies = filter_movies[filter_movies].index.tolist()\n",
        "print(filter_movies)"
      ],
      "execution_count": 13,
      "outputs": [
        {
          "output_type": "stream",
          "text": [
            "[356, 318, 296, 593, 2571, 260, 480, 110, 589, 527, 2959, 1, 1196, 2858, 50, 47, 780, 150, 1198, 4993, 1210, 858, 457, 592, 5952, 2028, 7153, 588, 608, 2762, 380, 32, 364, 1270, 377, 4306, 3578, 1580, 590, 648, 344, 4226, 367, 6539, 58559, 595, 1214, 1036, 500, 165, 79132, 1265, 1197, 6377, 1704, 2628, 1291, 1721, 316, 153, 1136, 597, 293, 1193, 3793, 231, 4886, 10, 6874, 1089, 7361, 1240, 1221, 2329, 34, 1213, 1200, 1682, 8961, 541, 736, 4995, 1097, 5349, 2683, 733, 1206, 5445, 4973, 2716, 1073, 4963, 33794, 586, 1527, 5989, 587, 208, 1968, 5418, 185, 3147, 3996, 2, 7438, 349, 253, 1258, 4878, 924, 2918, 329, 2115, 1208, 48516, 4896, 539, 1732, 1923, 68954, 60069, 223, 111, 39, 357, 2706, 161, 778, 1222, 6, 5816, 454, 292, 434, 1517, 44191, 912, 4022, 104, 2997, 339, 750, 3114, 1617, 72998, 2987, 6365, 3949, 1961, 1784, 4027, 59315, 2502, 4011, 551, 8368, 288, 5378, 2396, 2355, 919, 1917, 8360, 1259, 3948, 2797, 1356, 2174, 1387, 1610, 48780, 1080, 21, 2012, 19, 68157, 2324, 2916, 2617, 5618, 2011, 2791, 141, 1246, 1391, 1653, 5218, 1307, 1393, 32587, 1220, 904, 95, 410, 3897, 1101, 1219, 1584, 16, 788, 48394, 442, 317, 300, 49272, 54286, 2291, 51662, 62, 1676, 6934, 1247, 3052, 8636, 3751, 33493, 8874, 3623, 1573, 337, 46578, 1625, 594, 2700, 91529, 440, 6333, 69122, 25, 1225, 3175, 2692, 8665, 2000, 3481, 6016, 368, 1485, 6711, 35836, 3994, 109487, 45722, 3977, 50872, 1201, 1079, 63082, 6373, 40815, 99114, 1028, 11, 4034, 474, 1407, 235, 3408, 2985, 7147, 520, 89745, 1278, 923, 1370, 48, 266, 1380, 4979, 2054, 3753, 2353, 1544, 2081, 36, 2542, 74458, 4262, 17, 1288, 163, 6863, 508, 5481, 48385, 56367, 70286, 555, 2194, 653, 4246, 553, 2710, 4025, 48774, 786, 4447, 353, 1954, 55820, 1035, 1234, 1090, 435, 2657, 5502, 158, 56174, 173, 41566, 3081, 3421, 1304, 3671, 7143, 1374, 1127, 8644, 30793, 3253, 2321, 552, 3717, 509, 5459, 2640, 3527, 51255, 903, 596, 1377, 3471, 2006, 466, 5299, 33679, 3033, 112852, 1552, 1199, 3535, 6942, 2302, 1500, 6378, 420, 1252, 68358, 1207, 81845, 54001, 5669, 1608, 73017, 69844, 2167, 1230, 1394, 953, 708, 34162, 6502, 370, 8641, 160, 908, 1203, 2470, 2005, 1276, 80463, 2268, 350, 2529, 4370, 2395, 53125, 1302, 2599, 1148, 1641, 2671, 1777, 2804, 4720, 2080, 70, 4308, 5956, 78499, 54503, 432, 7, 91500, 2406, 4816, 106782, 168, 122904, 2572, 4018, 784, 59784, 76093, 3489, 49530, 1997, 2699, 2947, 673, 1282, 172, 2712, 2701, 3911, 71535, 485, 2078, 30707, 109374, 1466, 52973, 3, 6870, 45499, 1639, 225, 3160, 3552, 1215, 2100, 1645, 4848, 4776, 4239, 145, 5010, 2105, 34048, 333, 88125, 910, 2424, 34405, 3785, 8361, 33166, 116797, 8464, 96079, 661, 3176, 5991, 5464, 5, 2144, 2641, 45447, 4643, 216, 1748, 3000, 1275, 8784, 30749, 2763, 186, 134130, 745, 1729, 2019, 2694, 7458, 1092, 1367, 8529, 122882, 77561, 81834, 5679, 1320, 1358, 7293, 2001, 899, 1994, 2717, 783, 1921, 4014, 2539, 47099, 54272, 7254, 44, 112, 4085, 1884, 64614, 5060, 2076, 3752, 5902, 1396, 802, 5995, 2002, 4369, 1907, 196, 2490, 1266, 616, 31685, 2023, 4270, 2288, 2294, 3255, 1250, 236, 920, 1722, 6537, 1183, 1204, 4571, 4718, 1371, 2890, 1690, 3863, 4975, 3755, 2085, 111759, 33004, 849, 913, 46976, 37729, 52722, 8798, 151, 79702, 5377, 5903, 3499, 1333, 1876, 60684, 8984, 1263, 76251, 87232, 3275, 252, 1597, 134853, 2407, 2161, 3624, 1376, 1262, 4310, 47610, 2455, 3363, 3448, 2278, 852, 497, 2605, 1562, 3301, 2915, 355, 1967, 3868, 2273, 431, 59369, 81591, 1042, 1372, 91658, 785, 1909, 69757, 1088, 441, 1375, 1022, 2724, 261, 3210, 1094, 7373, 543, 3916, 55247, 115617, 4299, 1285, 122886, 2087, 1242, 45517, 3418, 57669, 762, 494, 5810, 2968, 2003, 3617, 471, 4223, 2541, 33615, 44199, 31658, 4367, 376, 1032, 6218, 282, 6807, 3703, 1228, 1674, 529, 1569, 98809, 1233, 41569, 2193, 224, 3082, 2746, 1129, 8528, 2580, 2761, 1274, 1673, 40819, 8949, 3826, 7451, 2248, 3039, 2094, 2951, 6188, 61323, 59615, 3300, 1953, 4148, 6936, 3174, 2723, 2908, 58998, 53996, 27773, 1408, 3702, 2018, 29, 315, 277, 2289, 3362, 112552, 8533, 44665, 2124, 8972, 7090, 2770, 79091, 8950, 31, 51540, 91542, 2420, 64957, 1020, 3967, 8622, 8376, 1093, 92259, 832, 2021, 4016, 58, 5971, 455, 5266, 55765, 112556, 30810, 3101, 2948, 902, 3510, 2231, 671, 6947, 345, 3247, 180, 1060, 3034, 119145, 4638, 1059, 1345, 3108, 34150, 44195, 585, 22, 2581, 193, 60040, 914, 1084, 66097, 170, 805, 1029, 7445, 63113, 256, 1249, 3809, 719, 31696, 38061, 3409, 628, 3361, 30812, 2427, 36529, 362, 8807, 327, 69481, 45720, 524, 54259, 4641, 5254, 64839, 6287, 64969, 969, 1261, 3698, 1172, 6708, 2140, 1663, 4734, 3882, 44555, 1947, 4344, 39183, 60, 85414, 86332, 1287, 1882, 3988, 53322, 1244, 6534, 61132, 4874, 2949, 837, 637, 265, 610, 5673, 2393, 30825, 1047, 2145, 1272, 3555, 8957, 342, 6754, 4015, 3681, 5388, 2300, 1918, 3396, 6541, 8917, 8970, 96610, 5064, 88140, 6157, 2160, 45, 72011, 2944, 1912, 104841, 1644, 88129, 3285, 3257, 68237, 6281, 102125, 152081, 1911, 303, 53972, 4361, 110102, 3256, 4701, 4321, 3006, 4446, 34319, 1405, 3386, 1747, 1805, 65, 1587, 272, 61024, 1566, 88163, 46723, 5630, 4890, 2953, 108932, 135, 72641, 1717, 2064, 139385, 724, 97938, 838, 1479, 38038, 97921, 95510, 2871, 5219, 7022, 1271, 2403, 348, 204, 95167, 2423, 915, 1373, 1267, 2501, 111362, 84152, 56757, 2058, 898, 647, 2722, 246, 3168, 1061, 2384, 2421, 2485, 6155, 1831, 1269, 3450, 1339, 60074, 1513, 115149, 3825, 3273, 5444, 3745, 94959, 2411, 743, 106696, 4019, 1027, 2788, 2150, 1299, 2335, 4232, 5620, 1077, 60756, 2243, 97304, 3186, 24, 198, 46970, 115713, 82459, 273, 56782, 968, 74789, 1223, 45186, 52, 3740, 4343, 2431, 741, 57368, 40629, 3424, 166528, 1021, 80549, 720, 880, 3252, 909, 3968, 5013, 5872, 1257, 122900, 37733, 1982, 122918, 3254, 6787, 3269, 8873, 102445, 6503, 1499, 1120, 52281, 4002, 88744, 122892, 3072, 1179, 2232, 2109, 4901, 1347, 922, 1293, 4700, 94864, 1591, 5574, 1476, 2359, 1614, 6957, 148626, 3638, 3869, 2826, 413, 2616, 93510, 164179, 53519, 106487, 2478, 107, 8783, 3556, 112183, 2795, 2409, 89492, 2082, 3264, 916, 4388, 3148, 3969, 1960, 5945, 3476, 1235, 4128, 68319, 168252, 46530, 2352, 2598, 2020, 3005, 3534, 374, 1086, 1590, 51935, 1680, 4823, 53953, 3438, 475, 2394, 1253, 2366, 5617, 54997, 67255, 27706, 1343, 8983, 86882, 2872, 6953, 2986, 1378, 3798, 3462, 1801, 2186, 1025, 3608, 106920, 106489, 1357, 7454, 3087, 1031, 215, 230, 1945, 2471, 5507, 3979, 2410, 49286, 5103, 2108, 515, 87869, 1212, 926, 1449, 1385, 2528, 1438, 6350, 81847, 7173, 1711, 1883, 2687, 2371, 3704, 6593, 5110, 3098, 2369, 3037, 2993, 307, 531, 86880, 2046, 4489, 1125, 66934, 1037, 56775, 2336, 3107, 1321, 1186, 1779, 1792, 799, 4023, 866, 8371, 81932, 37741, 7099, 44022, 562, 1409, 4161, 3827, 1256, 2052, 105, 116823, 117529, 4235, 45672, 1298, 2428, 101, 2805, 2496, 1962, 2991, 2840, 7323, 933, 46972, 3317, 103042, 1231, 1952, 122922, 748, 2391, 4105, 2600, 2134, 5954, 2245, 227, 3105, 3100, 468, 1586, 93840, 102903, 3263, 237, 2707, 63992, 5313, 4069, 2096, 1188, 1350, 80489, 1958, 122920, 3104, 276, 5171, 5449, 54995, 97913, 5283, 3360, 6773, 60072, 6323, 3504, 27904, 2378, 203, 91630, 2642, 2125, 62434, 2720, 37386, 2013, 106072, 87306, 53000, 2010, 72378, 1049, 104211, 2376, 262, 3984, 3536, 53121, 1175, 707, 2137, 105504, 2139, 5225, 107406, 41997, 379, 247, 4247, 34437, 2989, 7325, 7444, 207, 1965, 88810, 1091, 2375, 3354, 546, 383, 2405, 84954, 8910, 3070, 371, 3298, 6979, 372, 2067, 79592, 95441, 519, 55269, 3697, 86833, 830, 96588, 7371, 122916, 69, 81229, 419, 6888, 6873, 106918, 27660, 55290, 1297, 1292, 96821, 81564, 4865, 3910, 7346, 6297, 4545, 4958, 1104, 5881, 63131, 4980, 319, 3986, 88405, 1588, 2253, 53464, 102407, 7387, 1245, 2053, 2340, 49278, 18, 2990, 4855, 308, 1616, 1033, 2133, 1688, 39292, 175, 48738, 56949, 4007, 737, 930, 4448, 1015, 31410, 1429, 8969, 101864, 69526, 6283, 36401, 4623, 6383, 2009, 1381, 3893, 4366, 6156, 2083, 142488, 3083, 103335, 82461, 5957, 3744, 32031, 1693, 800, 3157, 765, 1224, 481, 3861, 48304, 55118, 97752, 3593, 2863, 1283, 112138, 5528, 4084, 5943, 4873, 5944, 12, 2567, 1441, 2792, 2686, 1100, 27831, 31878, 89864, 761, 3328, 103249, 5782, 2881, 5308, 27611, 338, 3683, 1556, 2402, 8958, 514, 91535, 3508, 6796, 5015, 94777, 2973, 1209, 6620, 928, 954, 2527, 3267, 2141, 47997, 2338, 90866, 540, 3468, 3635, 2505, 34072, 2530, 1359, 72226, 428, 58025, 8865, 2841, 118696, 56171, 516, 2467, 4621, 4639, 1237, 108190, 249, 115569, 57640, 3479, 176371, 5151, 128360, 6565, 194, 5463, 533, 5152, 2110, 58803, 103341, 1920, 81562, 68791, 3452, 63859, 3173, 2413, 83134, 14, 2088, 5291, 4728, 138036, 3639, 1687, 955, 79, 5785, 162, 26662, 267, 136020, 6564, 6059, 7004, 5014, 3730, 3435, 8810, 8914, 3271, 87222, 68554, 2313, 56152, 58293, 8228, 491, 3633, 361, 117176, 234, 1019, 836, 40278, 106100, 1464, 7160, 477, 4992, 3735, 6618, 33162, 4881, 7149, 5400, 2412, 248, 33660, 1635, 1296, 6879, 5419, 6548, 2072, 2808, 55276, 2311, 94677, 84944, 6764, 1171, 67087, 79695, 3646, 4238, 1248, 52245, 78469, 41285, 1303, 3146, 239, 1388, 2398, 61240, 111781, 3020, 1835, 7163, 50068, 351, 181, 112290, 71264, 103141, 103772, 5791, 122, 1719, 140, 1702, 106002, 9, 222, 382, 1254, 23, 42738, 3178, 111659, 88, 1589, 1753, 4351, 2301, 3972, 134368, 2318, 5690, 1665, 106916, 1227, 4499, 2450, 60126, 4327, 136864, 1348, 6586, 2735, 6659, 7360, 314, 69951, 4054, 2942, 2114, 60950, 532, 2387, 3821, 114180, 2643, 306, 3089, 73321, 2146, 1431, 69406, 103253, 3763, 415, 40583, 3791, 104879, 36519, 575, 1974, 122926, 8981, 1892, 2819, 1894, 2416, 4039, 1411, 1243, 105844, 86, 3258, 147, 2059, 84772, 3243, 1959, 5025, 104374, 3398, 3686, 1095, 135569, 2123, 1327, 3507, 2116, 2468, 3246, 112175, 3917, 86911, 1281, 7317, 714, 2533, 2126, 5992, 79293, 114662, 158238, 412, 112623, 3836, 1515, 3159, 1260, 168250, 2447, 3526, 1895, 1217, 1103, 6003, 1488, 3668, 7347, 20, 135887, 67734, 41, 2118, 76, 97306, 46, 76077, 5541, 2606, 1845, 3978, 8638, 1030, 502, 1057, 2794, 59900, 3113, 3156, 3060, 2702, 52975, 3355, 2004, 1754, 3591, 2688, 535, 839, 100, 290, 6595, 218, 1955, 3440, 6755, 2966, 2422, 3980, 103228, 2297, 6709, 3248, 4041, 164, 51086, 98961, 1619, 52328, 84374, 152077, 56145, 159, 8985, 81, 905, 4017, 3543, 5026, 3016, 1344, 45666, 2463, 2912, 232, 281, 135143, 2901, 99007, 3441, 96737, 4558, 26776, 4887, 542, 71530, 8366, 2367, 5066, 60397, 7367, 71057, 1284, 46965, 5878, 47200, 2060, 3198, 51412, 2136, 65230, 1251, 1769, 6385, 69644, 4378, 6296, 49651, 90405, 122924, 8861, 951, 2857, 53894, 58047, 6440, 45431, 2995, 492, 4974, 2117, 3615, 534, 47518, 257, 2950, 111360, 102123, 3999, 609, 48043, 7439, 4144, 174055, 2803, 4214, 157296, 3477, 4467, 6944, 1726, 4679, 417, 45728, 111364, 33836, 43928, 7156, 53993, 5072, 3030, 76175, 3699, 3213, 507, 3483, 2664, 3654, 911, 2728, 15, 8907, 56587, 3307, 39446, 280, 3852, 4040, 62849, 2325, 78105, 7265, 62999, 7482, 986, 1064, 892, 3461, 122912, 6993, 6857, 2779, 1124, 45880, 1620, 2719, 1023, 115210, 4254, 26, 143355, 177765, 6550, 996, 5065, 2334, 4677, 2802, 6331, 59022, 1211, 58295, 176, 45950, 77455, 2090, 1518, 4033, 4020, 2459, 1301, 1603, 1537, 3981, 2143, 140110, 55052, 4967, 7318, 1833, 8640, 36517, 3044, 47629, 3219, 1135, 3701, 37384, 73, 1799, 1957, 3439, 2454, 3316, 3551, 2474, 2065, 4008, 4876, 188, 71745, 1848, 1772, 493, 2379, 537, 3203, 810, 2476, 1277, 111113, 1970, 2662, 72737, 44972, 2713, 6867, 187593, 1081, 8781, 2739, 1013, 2312, 52604, 1991, 27801, 54881, 85510, 59501, 405, 70183, 2583, 3812, 366, 2247, 798, 90746, 3618, 7162, 135536, 7151, 332, 445, 30816, 6552, 3088, 154, 1416, 51077, 54999, 44761, 934, 1457, 4153, 2731, 119141, 952, 44974, 3260, 179819, 842, 3997, 98243, 999, 2596, 5267, 1885, 3429, 2532, 233, 1916, 111743, 8370, 2672, 80219, 2360, 2798, 8373, 421, 34520, 3244, 1956, 900, 3998, 4005, 70293, 4029, 89470, 5505, 7569, 663, 45081, 5135, 2867, 125, 1178, 2952, 5577, 144, 99112, 6753, 2404, 1459, 80906, 490, 3274, 3270, 3564, 538, 2565, 4121, 41571, 427, 49649, 36708, 1672, 2926, 27808, 4487, 2122, 5294, 2346, 122906, 27815, 2822, 93363, 1131, 93326, 40732, 1194, 1483, 742, 65088, 2249, 7247, 55442, 76293, 46335, 1810, 91077, 55282, 2796, 6793, 6294, 3688, 7046, 1834, 994, 89774, 3359, 7324, 1295, 965, 48082, 107348, 104913, 110553, 52287, 1289, 87520, 2827, 489, 117590, 4642, 157, 59258, 3503, 3268, 3053, 801, 2153, 59387, 54004, 4036, 5265, 1480, 1950, 2414, 31433, 1379, 52435, 1615, 6662, 5128, 4386, 3783, 1963, 991, 3824, 71464, 30822, 2921, 709, 6242, 42011, 5608, 49274, 3784, 45501, 4326, 64983, 97225, 1735, 3741, 1189, 8623, 64716, 2135, 42723, 3261, 83349, 6535, 1041, 3831, 3189, 1474, 62374, 5812, 5049, 66203, 56941, 3262, 4340, 54190, 139644, 373, 1216, 137857, 3397, 28, 4149, 2622, 63876, 5693, 59725, 631, 37727, 3388, 86190, 1173, 2648, 3062, 1218, 159093, 4291, 4954, 3259, 4368, 3451, 104241, 89904, 381, 599, 2433, 1273, 694, 1342, 5650, 6482, 65261, 8965, 1078, 3035, 3004, 640, 44840, 1944, 48783, 5108, 48877, 258, 97, 58156, 1147, 4167, 1760, 2089, 47044, 2690, 1678, 174, 56251, 86644, 8947, 150548, 423, 3616, 5380, 79139, 5500, 40826, 92535, 4396, 5970, 1017, 91485, 169, 61250, 27846, 7154, 2380, 328, 7150, 8014, 2518, 3358, 81537, 78772, 120466, 3334, 3707, 2176, 37380, 2279, 55363, 6058, 135133, 605, 1541, 4787, 4333, 3742, 4799, 52458, 89, 51084, 322, 4255, 116897, 2296, 728, 3524, 84392, 6893, 65514, 6958, 4994, 2793, 2924, 94, 166643, 1873, 7137, 818, 5621, 6367, 5329, 78209, 2594, 3067, 4902, 3018, 166461, 3708, 71899, 2875, 6305, 2718, 2917, 1096, 2097, 2734, 96829, 4103, 91094, 32029, 1241, 711, 1290, 129354, 45668, 3019, 971, 2772, 67923, 62155, 55232, 2111, 55721, 2517, 2142, 68135, 31221, 57504, 195, 34338, 88785, 50794, 3484, 2361, 918, 464, 8977, 7263, 5296, 5220, 87430, 114935, 4228, 69784, 55768, 37830, 1185, 102481, 4322, 1969, 1927, 79134, 3676, 393, 134393, 79057, 2138, 55830, 68793, 4903, 2513, 1007, 112171, 2747, 437, 829, 63072, 3685, 67197, 3347, 2015, 3505, 2644, 45730, 74946, 5146, 4678, 4553, 1914, 93838, 6765, 4989, 66, 72407, 2524, 3040, 3095, 3022, 1268, 35957, 3844, 38886, 5784, 2373, 861, 5959, 7981, 688, 2558, 87529, 69640, 83613, 2320, 55267, 175303, 2408, 3983, 2183, 4280, 1300, 57528, 3444, 8507, 5955, 8666, 678, 95105, 42002, 2389, 133419, 6104, 3249, 43679, 53123, 52885, 2236, 809, 1012, 1238, 1390, 61248, 8132, 43936, 6890, 3155, 3515, 8866, 5047, 7158, 95720, 5293, 26614, 2262, 96110, 921, 446, 97923, 4427, 2806, 120799, 135861, 931, 89804, 3814, 50601, 7132, 5247, 517, 37857, 5363, 3196, 4732, 4519, 2531, 4880, 64620, 6617, 1734, 1009, 3250, 2456, 87485, 5093, 37731, 3918, 3754, 6214, 62956, 2941, 47122, 39444, 312, 6615, 1010, 2027, 3991, 2726, 86345, 46948, 5139, 2709, 8643, 49396, 2372, 160438, 2034, 33437, 7123, 2374, 2745, 101142, 4387, 6952, 36535, 1862, 5401, 2843, 71156, 111921, 6238, 6299, 3265, 205, 164909, 7285, 1280, 171763, 3071, 62336, 305, 2148, 33646, 5008, 4047, 4936, 3877, 93, 7669, 2860, 27, 74795, 674, 5540, 358, 79008, 6166, 804, 2919, 2048, 8937, 43871, 32598, 2401, 1701, 143385, 2861, 62081, 3208, 940, 3512, 2014, 1346, 1132, 5055, 2568, 57274, 2799, 544, 5524, 161131, 558, 140174, 4010, 2322, 70336, 7034, 2935, 149406, 6774, 3614, 3054, 7573, 2551, 39381, 1858, 3498, 1414, 95875, 1889, 7570, 102686, 3649, 710, 1939, 3152, 43, 407, 1966, 1005, 55280, 482, 2348, 27803, 4132, 160080, 5420, 71282, 3272, 3896, 57, 46322, 3675, 4155, 5323, 2155, 4508, 6266, 3959, 79224, 2668, 4719, 7802, 8966, 4437, 4052, 2759, 4866, 2112, 1425, 3385, 3201, 5478, 2392, 8973, 111617, 932, 3693, 4062, 3466, 3705, 44694, 2870, 30894, 2130, 2171, 50912, 56788, 101362, 5882, 13, 7169, 27731, 60766, 1461, 613, 416, 433, 68205, 4941, 177, 54736, 161582, 3204, 90647, 6731, 7256, 2443, 4857, 7255, 2473, 5309, 41573, 107141, 360, 1806, 5553, 78574, 2889, 2259, 82, 7366, 2344, 176101, 92420, 2445, 55908, 4914, 99117, 782, 667, 7155, 52952, 5009, 3061, 1658, 68659, 448, 180031, 2457, 2613, 131013, 67408, 6264, 99813, 6187, 80693, 93270, 5582, 56339, 51080, 289, 58299, 8645, 7007, 7076, 92, 2162, 1924, 6303, 4359, 7063, 2269, 48997, 4037, 163645, 5040, 59421, 89753, 2752, 2033, 146656, 74, 2560, 1279, 1011, 4899, 36525, 3549, 37382, 27788, 3943, 3200, 3727, 4090, 3706, 5900, 63062, 32019, 32296, 2022, 130520, 31420, 4133, 105213, 1707, 6707, 98491, 71838, 3566, 2458, 177593, 55261, 55995, 3950, 143859, 4587, 50442, 7161, 4477, 1232, 86298, 6006, 4349, 8, 5747, 86320, 41716, 4006, 2492, 48982, 33669, 2550, 40339, 5501, 39414, 1713, 3102, 90439, 2829, 7028, 4109, 255, 274, 378, 7013, 53468, 42725, 69436, 2469, 85, 8169, 32596, 4450, 4068, 7980, 2203, 1694, 6987, 1627, 1976, 1866, 34534, 2946, 3066, 63, 704, 5004, 32017, 1972, 2195, 170705, 2328, 158872, 1948, 8340, 3426, 229, 2879, 2316, 4380, 79357, 49822, 149354, 64622, 87, 2040, 106766, 5446, 2815, 85367, 945, 473, 27266, 1354, 33672, 71033, 901, 3521, 3629, 5312, 60937, 140715, 33495, 700, 2764, 96861, 1689, 2349, 5159, 1975, 134170, 325, 53129, 91104, 1855, 2132, 3684, 781, 6639, 110501, 2169, 3513, 133771, 167746, 7934, 43396, 3197, 1202, 2877, 7380, 106491, 1863, 3024, 122896, 3296, 7375, 4741, 82167, 1445, 80831, 906, 4654, 132046, 8808, 43836, 4713, 735, 51709, 2846, 4649, 159817, 7419, 6880, 7396, 86347, 81788, 3952, 69278, 3565, 108729, 86377, 40148, 5325, 45210, 110730, 3478, 56156, 3341, 82202, 85342, 943, 4225, 5568, 2500, 2202, 8633, 4056, 4, 126, 5504, 65682, 2354, 78637, 2730, 106642, 7701, 505, 662, 7036, 31225, 5094, 5316, 8814, 8880, 6645, 450, 1951, 438, 58162, 4889, 99149, 426, 4159, 4951, 135436, 79428, 95558, 1840, 74530, 1446, 58154, 82169, 436, 6881, 1286, 2351, 3099, 2859, 4744, 522, 2390, 2906, 8042, 3036, 3394, 3134, 1646, 74545, 7381, 6250, 1056, 2121, 72, 2381, 36527, 64497, 39715, 7139, 3387, 2240, 42, 2025, 61160, 1432, 2750, 5106, 34323, 98124, 52319, 168248, 1184, 71254, 1681, 5292, 6868, 64575, 80363, 65802, 5530, 3365, 8860, 97836, 65216, 5573, 2159, 2936, 47644, 4681, 6380, 48322, 5508, 3873, 6721, 5572, 6290, 2729, 6932, 62644, 5364, 6763, 2907, 5303, 3811, 81782, 53460, 1542, 103688, 72733, 6996, 1971, 6001, 5803, 3308, 3068, 6484, 848, 102716, 47999, 54256, 950, 6213, 103384, 166534, 2748, 135137, 3422, 3392, 27317, 1365, 56801, 50685, 938, 1593, 851, 43560, 2208, 4203, 1594, 6591, 5792, 127198, 48142, 2151, 8908, 64231, 3915, 80860, 73268, 833, 5379, 88812, 2880, 1226, 149352, 3412, 3177, 3029, 2956, 828, 3788, 8531, 48520, 162350, 5479, 2553, 5339, 217, 71579, 85780, 6536, 3985, 3041, 85774, 1177, 4452, 4498, 3841, 2184, 8493, 1018, 166635, 51939, 569, 6820, 1977, 94478, 64034, 3550, 6338, 4233, 171, 444, 44788, 44397, 5585, 1255, 162606, 3993, 459, 250, 8254, 1082, 4158, 33145, 472, 1191, 68952, 80166, 45726, 66297, 157699, 2976, 3404, 3494, 64030, 2940, 119155, 7460, 85881, 8207, 7319, 2506, 4754, 108156, 936, 3238, 52241, 49932, 3770, 84601, 3032, 1190, 46974, 2504, 1083, 27821, 1683, 2042, 126548, 1126, 5452, 91128, 275, 160563, 2282, 81784, 103339, 3090, 136598, 6619, 8879, 61, 2432, 3835, 6664, 7234, 89087, 6974, 7376, 5048, 8869, 58103, 2315, 501, 91976, 5016, 7235, 42004, 2971, 27741, 95207, 3063, 95088, 122898, 100383, 886, 3594, 6322, 117895, 4211, 2787, 75985, 1024, 4616, 2357, 3519, 3266, 4844, 5319, 7064, 160980, 7624, 1389, 69306, 3987, 3469, 27772, 346, 4564, 96728, 33085, 44004, 6669, 429, 31427, 32011, 40581, 1361, 140711, 179401, 5039, 3511, 81156, 27721, 7101, 3007, 103372, 7001, 34332, 90249, 1334, 90522, 3925, 942, 2430, 62113, 1797, 4774, 2676, 55872, 1809, 116799, 5942, 2261, 612, 5421, 4812, 2548, 7164, 132, 4210, 108928, 347, 548, 155, 191, 4102, 2036, 7379, 108945, 86293, 4978, 1821, 4676, 162578, 2549, 3079, 3889, 7757, 122890, 1454, 213, 414, 130490, 1931, 136562, 130634, 96811, 4205, 2497, 1995, 4748, 142448, 4178, 1949, 948, 77866, 949, 4546, 44193, 2092, 4215, 51834, 2579, 556, 69069, 6212, 37720, 2418, 78893, 4815, 75805, 2239, 3799, 94780, 8154, 2574, 7327, 1004, 4248, 45440, 45732, 79242, 3955, 2436, 2306, 45028, 60161, 330, 45221, 6461, 139642, 627, 100498, 3181, 5941, 101112, 3766, 2099, 1875, 611, 354, 127202, 8614, 26133, 82852, 95543, 79185, 82854, 6062, 1964, 33164, 33154, 8968, 2093, 47640, 56715, 71520, 87192, 110771, 3927, 64, 103810, 54648, 6663, 2429, 26084, 104218, 3553, 39449, 4821, 39435, 1442, 6686, 2377, 4234, 580, 75, 71106, 3723, 7649, 138210, 656, 85401, 67997, 2961, 3425, 8604, 3726, 55814, 62250, 8796, 3525, 3538, 120635, 168418, 112818, 8607, 6975, 91323, 3401, 8372, 4021, 5450, 104243, 4990, 1264, 3251, 27839, 6460, 4231, 4030, 96417, 6624, 26680, 1983, 68, 93721, 41863, 98585, 26729, 3169, 63853, 92938, 44828, 60037, 5298, 2263, 6811, 469, 6791, 90600, 1919, 4867, 7027, 3286, 8827, 4267, 340, 3840, 187595, 270, 118900, 1128, 4372, 2866, 27822, 27020, 7845, 4464, 3506, 4304, 5796, 47423, 7700, 891, 3153, 27592, 4921, 2736, 100163, 77800, 2810, 71379, 83803, 7115, 7008, 73319, 65685, 4915, 103235, 5874, 1395, 1755, 180985, 5909, 44709, 95858, 158966, 42632, 4814, 5107, 79553, 1703, 73023, 33158, 4104, 73323, 3632, 1187, 42718, 3130, 1363, 66785, 881, 42728, 7320, 45662, 43921, 2618, 2163, 4406, 68073, 54281, 42418, 2170, 8266, 3682, 3724, 4383, 175569, 2077, 453, 2106, 102033, 1192, 86781, 2290, 7117, 27912, 242, 5666, 5027, 4465, 74868, 5081, 66371, 26242, 458, 6832, 1993, 1468, 140928, 71518, 1762, 1043, 32898, 78039, 5665, 33903, 6370, 116, 112788, 39400, 4275, 3221, 60514, 6014, 171011, 2073, 6724, 2266, 102, 113453, 72605, 6985, 128520, 66509, 51931, 31364, 813, 45928, 3342, 5876, 64285, 2732, 6702, 343, 4591, 8253, 59126, 91974, 2883, 43904, 27156, 26258, 169984, 3038, 26903, 4265, 6810, 2252, 5480, 156609, 2084, 26152, 422, 2188, 86504, 87483, 1611, 51575, 60487, 1050, 302, 2287, 3470, 9010, 8870, 5080, 2570, 1014, 3115, 37739, 3327, 1130, 26131, 973, 697, 117881, 1633, 990, 161634, 2888, 7983, 1016, 1399, 5632, 3992, 2937, 6794, 4526, 3864, 1783, 94953, 71135, 183897, 2206, 4086, 2275, 4334, 3672, 49824, 2070, 2017, 56921, 6666, 165549, 3946, 5993, 3690, 1643, 4474, 70599, 2654, 3871, 2922, 3858, 2498, 34334, 1034, 47950, 58105, 32291, 3501, 5434, 71, 259, 78349, 7044, 334, 95449, 8157, 619, 3599, 6538, 2303, 5570, 8387, 190, 2925, 4241, 4220, 4846, 4544, 3529, 1554, 4735, 1667, 34542, 6025, 5804, 6887, 5092, 2769, 122902, 55577, 101525, 4509, 3182, 1785, 3528, 85056, 2670, 117851, 3548, 118997, 2382, 90890, 3045, 1487, 6777, 3310, 3764, 390, 6301, 74532, 65130, 8128, 61236, 1582, 2491, 550, 113378, 1306, 101025, 7698, 7018, 1006, 6951, 5628, 725, 91653, 3545, 2356, 4356, 3557, 56805, 1366, 73266, 6713, 40414, 4971, 1973, 93272, 4900, 110127, 128620, 5548, 69134, 81417, 1498, 5451, 2786, 65642, 7894, 2149, 2383, 40723, 67295, 2789, 3774, 577, 187541, 5438, 3031, 117533, 142997, 6308, 1727, 4738, 639, 7228, 88356, 4605, 3111, 47382, 5246, 2967, 95307, 74154, 1942, 1992, 147384, 5522, 5951, 2807, 271, 5415, 85131, 6332, 6695, 650, 1111, 44864, 46967, 718, 6368, 4221, 4389, 87304, 6039, 3516, 7316, 6375, 90376, 102993, 100390, 27674, 40851, 2561, 4640, 4518, 67267, 60941, 4628, 8581, 7842, 109846, 4419, 104076, 5222, 52967, 4502, 173291, 7369, 3109, 2575, 93287, 94266, 160271, 42013, 2639, 66665, 3467, 109578, 86142, 90531, 1598, 8011, 6989, 168326, 5414, 7102, 58301, 73344, 1382, 5668, 43376, 766, 132157, 182823, 4168, 78467, 2978, 2851, 55167, 513, 6658, 86548, 6012, 1353, 58315, 4802, 4808, 5899, 512, 4066, 45442, 168492, 2660, 4067, 38, 158813, 6625, 132796, 7294, 6339, 1046, 2241, 105037, 88235, 152970, 2120, 574, 165101, 5988, 2902, 6559, 6786, 518, 39869, 105954, 3786, 105653, 49910, 2615, 606, 3163, 27790, 140359, 6286, 7257, 53956, 78088, 105197, 8362, 1998, 4012, 58839, 7069, 7982, 1837, 184471, 109483, 3074, 5428, 3500, 92507, 117887, 93443, 6252, 34271, 2996, 5843, 85020, 6636, 89118, 32460, 1731, 4124, 52694, 4042, 2836, 3572, 1326, 4141, 3728, 51091, 40614, 5712, 5879, 2399, 61352, 147378, 32289, 7762, 4175, 3436, 25825, 7541, 59333, 85022, 3190, 4229, 2182, 7215, 3117, 6288, 5102, 4293, 199, 96488, 4063, 3928, 32657, 104069, 2050, 1550, 39231, 168254, 96432, 4305, 7706, 3843, 71823, 4381, 112911, 114795, 387, 167036, 2166, 3167, 94015, 103596, 4888, 50798, 170697, 48412, 70159, 2587, 2882, 4929, 8967, 82667, 58347, 365, 487, 67788, 103980, 4725, 2066, 26322, 135567, 1684, 1099, 461, 53127, 1996, 6040, 26471, 879, 8951, 90430, 3802, 947, 3677, 1999, 2771, 31804, 54785, 55253, 7026, 210, 49961, 136016, 5809, 7303, 7448, 38798, 5873, 90717, 5646, 3076, 147380, 8501, 4339, 113573, 5255, 113348, 109673, 3930, 3909, 1330, 38304, 6687, 2333, 4976, 6785, 4912, 90345, 3973, 2205, 53318, 49220, 1860, 581, 4126, 71462, 6093, 112370, 4529, 174053, 128975, 4439, 4432, 4721, 94070, 5214, 4191, 151739, 2204, 127098, 6744, 3445, 74324, 6643, 2522, 34532, 1844, 2181, 127096, 98203, 240, 6341, 3822, 51037, 95873, 101612, 48696, 130576, 4535, 47810, 30850, 87867, 6710, 7340, 4727, 7084, 98154, 4697, 2131, 692, 2970, 4686, 121231, 3953, 7121, 27193, 49772, 2677, 2693, 60760, 7000, 1648, 34336, 4850, 1392, 3091, 1605, 4703, 27837, 6872, 134214, 72167, 160954, 6808, 1733, 5264, 1730, 4533, 27397, 523, 3990, 3627, 80126, 2264, 167018, 5544, 840, 7766, 4898, 3497, 1503, 8364, 3225, 27879, 103075, 2337, 1066, 3194, 4745, 7362, 4928, 63540, 6249, 4160, 3142, 65585, 33499, 101962, 3093, 62511, 3689, 45175, 7587, 3230, 1422, 7259, 93831, 3846, 63433, 148956, 3865, 63479, 56563, 680, 2091, 5466, 7748, 2265, 3576, 3584, 187, 123, 456, 152091, 4091, 53024, 140247, 39427, 37240, 173145, 73015, 6337, 127108, 137337, 42009, 44204, 74510, 3801, 55245, 1752, 168266, 2016, 142422, 3384, 85796, 140956, 106540, 3937, 3011, 6184, 7258, 7033, 72356, 2057, 7481, 6852, 3224, 3732, 33880, 2905, 479, 62293, 3306, 40955, 27878, 69275, 65188, 5147, 5527, 7048, 1602, 26865, 5891, 4803, 43917, 7450, 33834, 1305, 83132, 4773, 142222, 93766, 47894, 7116, 97860, 6978, 39234, 7720, 7386, 67695, 6220, 100507, 25771, 53435, 299, 634, 1592, 5410, 5248, 70565, 42734, 2043, 1447, 4792, 2593, 4585, 32584, 3606, 101577, 3430, 4259, 4969, 27604, 27882, 1979, 74685, 185029, 5477, 5099, 3017]\n"
          ],
          "name": "stdout"
        }
      ]
    },
    {
      "cell_type": "markdown",
      "metadata": {
        "id": "L8rdqFQLd6Y1",
        "colab_type": "text"
      },
      "source": [
        "**4.2: Filter users with less than 3 movies rated**"
      ]
    },
    {
      "cell_type": "code",
      "metadata": {
        "id": "p3qfgWMTdvH1",
        "colab_type": "code",
        "colab": {
          "base_uri": "https://localhost:8080/",
          "height": 52
        },
        "outputId": "fdc92b0e-79ec-48ed-eea3-2f53bca54d65"
      },
      "source": [
        "filter_users = df['userId'].value_counts() > 3\n",
        "filter_users = filter_users[filter_users].index.tolist()\n",
        "print(filter_users)"
      ],
      "execution_count": 14,
      "outputs": [
        {
          "output_type": "stream",
          "text": [
            "[414, 599, 474, 448, 274, 610, 68, 380, 606, 288, 249, 387, 182, 307, 603, 298, 177, 318, 232, 480, 608, 600, 590, 483, 105, 19, 305, 489, 111, 438, 217, 140, 477, 555, 91, 28, 219, 534, 89, 64, 226, 561, 18, 525, 57, 381, 368, 509, 469, 560, 462, 292, 597, 21, 42, 294, 160, 580, 596, 275, 202, 517, 45, 156, 514, 391, 567, 357, 103, 339, 62, 199, 125, 51, 132, 66, 313, 200, 221, 6, 453, 50, 425, 428, 573, 352, 84, 122, 382, 356, 239, 135, 365, 484, 104, 63, 325, 169, 290, 332, 495, 432, 187, 328, 222, 212, 330, 20, 282, 372, 434, 1, 594, 562, 198, 82, 186, 354, 312, 605, 41, 4, 304, 119, 563, 263, 73, 586, 220, 246, 452, 234, 385, 522, 280, 139, 570, 166, 317, 552, 607, 195, 520, 367, 479, 266, 153, 74, 279, 256, 167, 141, 95, 331, 80, 527, 410, 117, 587, 346, 216, 265, 577, 564, 33, 419, 475, 572, 334, 260, 326, 287, 7, 233, 247, 113, 100, 137, 408, 420, 351, 559, 129, 47, 10, 230, 424, 464, 210, 602, 15, 27, 184, 376, 377, 524, 52, 369, 268, 240, 144, 314, 482, 109, 254, 411, 409, 393, 551, 437, 492, 23, 405, 22, 76, 181, 83, 308, 465, 301, 43, 490, 466, 542, 58, 115, 306, 571, 488, 136, 24, 201, 362, 510, 59, 322, 286, 436, 17, 593, 309, 40, 32, 412, 601, 39, 373, 604, 16, 215, 323, 159, 361, 93, 503, 415, 592, 168, 227, 422, 418, 244, 370, 98, 353, 554, 211, 426, 284, 541, 116, 504, 34, 500, 191, 427, 446, 213, 553, 584, 204, 171, 460, 390, 29, 470, 447, 96, 38, 445, 337, 178, 108, 543, 241, 523, 223, 225, 566, 359, 528, 579, 401, 297, 143, 384, 86, 344, 75, 476, 179, 131, 386, 417, 174, 342, 190, 165, 235, 229, 112, 79, 310, 546, 11, 491, 152, 70, 345, 493, 78, 101, 585, 395, 36, 404, 151, 458, 343, 121, 429, 526, 430, 149, 267, 262, 183, 455, 94, 336, 487, 413, 583, 88, 588, 321, 264, 123, 558, 102, 582, 486, 273, 348, 591, 90, 224, 261, 316, 303, 99, 341, 511, 450, 248, 416, 110, 497, 532, 457, 124, 237, 512, 170, 31, 148, 327, 188, 378, 44, 14, 402, 8, 253, 537, 185, 9, 56, 398, 155, 69, 454, 347, 501, 203, 72, 441, 255, 5, 238, 400, 456, 271, 506, 46, 540, 444, 435, 358, 276, 295, 371, 270, 589, 581, 521, 350, 536, 3, 161, 338, 61, 449, 252, 142, 539, 126, 533, 162, 473, 538, 349, 609, 421, 443, 399, 97, 176, 285, 243, 67, 379, 164, 575, 133, 71, 319, 242, 193, 498, 209, 134, 283, 197, 502, 30, 107, 389, 85, 154, 451, 403, 65, 383, 375, 374, 440, 54, 315, 48, 128, 468, 463, 106, 196, 12, 556, 146, 302, 513, 300, 481, 13, 272, 366, 291, 114, 505, 363, 535, 236, 472, 77, 496, 269, 565, 388, 2, 259, 335, 311, 471, 130, 277, 396, 340, 550, 578, 530, 557, 250, 205, 461, 499, 296, 519, 81, 158, 548, 516, 218, 172, 208, 515, 355, 459, 25, 150, 258, 529, 55, 206, 333, 392, 228, 360, 173, 289, 175, 92, 180, 508, 518, 231, 299, 574, 394, 545, 329, 35, 163, 251, 423, 568, 485, 145, 397, 214, 192, 531, 118, 60, 138, 544, 127, 494, 433, 407, 120, 478, 467, 245, 293, 37, 439, 324, 507, 364, 598, 49, 157, 547, 87, 549, 26, 281, 320, 207, 576, 194, 189, 257, 147, 53, 278, 406, 595, 569, 431, 442]\n"
          ],
          "name": "stdout"
        }
      ]
    },
    {
      "cell_type": "markdown",
      "metadata": {
        "id": "ua058AeReQuD",
        "colab_type": "text"
      },
      "source": [
        "**4.3: Remove rarely rated movies and rarely rating users**"
      ]
    },
    {
      "cell_type": "code",
      "metadata": {
        "id": "g0WyUcOKdyK2",
        "colab_type": "code",
        "colab": {
          "base_uri": "https://localhost:8080/",
          "height": 49
        },
        "outputId": "04bee708-d8de-44d0-db69-91cfa371d0fe"
      },
      "source": [
        "print(df.shape)\n",
        "df = df[(df['movieId'].isin(filter_movies)) & (df['userId'].isin(filter_users))]\n",
        "print(df.shape)"
      ],
      "execution_count": 17,
      "outputs": [
        {
          "output_type": "stream",
          "text": [
            "(92394, 3)\n",
            "(92394, 3)\n"
          ],
          "name": "stdout"
        }
      ]
    },
    {
      "cell_type": "markdown",
      "metadata": {
        "id": "N5wgqH2Ve7Do",
        "colab_type": "text"
      },
      "source": [
        "# **Task 5 : Create Training and Test Sets**"
      ]
    },
    {
      "cell_type": "markdown",
      "metadata": {
        "id": "wsaAKdgxfFLN",
        "colab_type": "text"
      },
      "source": [
        "**5.1: Columns used for training**"
      ]
    },
    {
      "cell_type": "code",
      "metadata": {
        "id": "2kA7XOxkeZ9Q",
        "colab_type": "code",
        "colab": {}
      },
      "source": [
        "cols = ['userId', 'movieId', 'rating']"
      ],
      "execution_count": 20,
      "outputs": []
    },
    {
      "cell_type": "markdown",
      "metadata": {
        "id": "FdAixIDfgm8N",
        "colab_type": "text"
      },
      "source": [
        "**5.2: Create surprise dataset**"
      ]
    },
    {
      "cell_type": "code",
      "metadata": {
        "id": "mEAITeNIgg8U",
        "colab_type": "code",
        "colab": {}
      },
      "source": [
        "reader = Reader(rating_scale = (0.5, 5))\n",
        "data = Dataset.load_from_df(df[cols], reader)"
      ],
      "execution_count": 23,
      "outputs": []
    },
    {
      "cell_type": "markdown",
      "metadata": {
        "id": "6pPmY1s9g5DD",
        "colab_type": "text"
      },
      "source": [
        "**5.3: Create Train-set and Prediction-set**"
      ]
    },
    {
      "cell_type": "code",
      "metadata": {
        "id": "3GbhTFKSguYn",
        "colab_type": "code",
        "colab": {}
      },
      "source": [
        "trainset = data.build_full_trainset()\n",
        "antiset = trainset.build_anti_testset()"
      ],
      "execution_count": 24,
      "outputs": []
    },
    {
      "cell_type": "markdown",
      "metadata": {
        "id": "Z0PGl1inhhE5",
        "colab_type": "text"
      },
      "source": [
        "# **Task 6 : Creating and training the model**"
      ]
    },
    {
      "cell_type": "markdown",
      "metadata": {
        "id": "tz7hhRgOhorm",
        "colab_type": "text"
      },
      "source": [
        "**6.1: Creating the model**"
      ]
    },
    {
      "cell_type": "markdown",
      "metadata": {
        "id": "vcv0uM6kjmPi",
        "colab_type": "text"
      },
      "source": [
        "SVD(Singular Value Decomposition)"
      ]
    },
    {
      "cell_type": "markdown",
      "metadata": {
        "id": "9QOg4TYLjdxU",
        "colab_type": "text"
      },
      "source": [
        "Interaction Matrix = A X B X C"
      ]
    },
    {
      "cell_type": "code",
      "metadata": {
        "id": "vA7jMlFFhc4f",
        "colab_type": "code",
        "colab": {}
      },
      "source": [
        "algo = SVD(n_epochs = 25, verbose = True)"
      ],
      "execution_count": 25,
      "outputs": []
    },
    {
      "cell_type": "markdown",
      "metadata": {
        "id": "smR3Akm2jsn7",
        "colab_type": "text"
      },
      "source": [
        "**6.2: Training the model**"
      ]
    },
    {
      "cell_type": "code",
      "metadata": {
        "id": "WFKkdZftjrSj",
        "colab_type": "code",
        "colab": {
          "base_uri": "https://localhost:8080/",
          "height": 1000
        },
        "outputId": "1e990326-a992-44e1-c4d6-550836a34b18"
      },
      "source": [
        "cross_validate(algo, data, measures = ['RMSE', 'MAE'], cv = 5, verbose = True)\n",
        "print(\"Training Done!\")"
      ],
      "execution_count": 26,
      "outputs": [
        {
          "output_type": "stream",
          "text": [
            "Processing epoch 0\n",
            "Processing epoch 1\n",
            "Processing epoch 2\n",
            "Processing epoch 3\n",
            "Processing epoch 4\n",
            "Processing epoch 5\n",
            "Processing epoch 6\n",
            "Processing epoch 7\n",
            "Processing epoch 8\n",
            "Processing epoch 9\n",
            "Processing epoch 10\n",
            "Processing epoch 11\n",
            "Processing epoch 12\n",
            "Processing epoch 13\n",
            "Processing epoch 14\n",
            "Processing epoch 15\n",
            "Processing epoch 16\n",
            "Processing epoch 17\n",
            "Processing epoch 18\n",
            "Processing epoch 19\n",
            "Processing epoch 20\n",
            "Processing epoch 21\n",
            "Processing epoch 22\n",
            "Processing epoch 23\n",
            "Processing epoch 24\n",
            "Processing epoch 0\n",
            "Processing epoch 1\n",
            "Processing epoch 2\n",
            "Processing epoch 3\n",
            "Processing epoch 4\n",
            "Processing epoch 5\n",
            "Processing epoch 6\n",
            "Processing epoch 7\n",
            "Processing epoch 8\n",
            "Processing epoch 9\n",
            "Processing epoch 10\n",
            "Processing epoch 11\n",
            "Processing epoch 12\n",
            "Processing epoch 13\n",
            "Processing epoch 14\n",
            "Processing epoch 15\n",
            "Processing epoch 16\n",
            "Processing epoch 17\n",
            "Processing epoch 18\n",
            "Processing epoch 19\n",
            "Processing epoch 20\n",
            "Processing epoch 21\n",
            "Processing epoch 22\n",
            "Processing epoch 23\n",
            "Processing epoch 24\n",
            "Processing epoch 0\n",
            "Processing epoch 1\n",
            "Processing epoch 2\n",
            "Processing epoch 3\n",
            "Processing epoch 4\n",
            "Processing epoch 5\n",
            "Processing epoch 6\n",
            "Processing epoch 7\n",
            "Processing epoch 8\n",
            "Processing epoch 9\n",
            "Processing epoch 10\n",
            "Processing epoch 11\n",
            "Processing epoch 12\n",
            "Processing epoch 13\n",
            "Processing epoch 14\n",
            "Processing epoch 15\n",
            "Processing epoch 16\n",
            "Processing epoch 17\n",
            "Processing epoch 18\n",
            "Processing epoch 19\n",
            "Processing epoch 20\n",
            "Processing epoch 21\n",
            "Processing epoch 22\n",
            "Processing epoch 23\n",
            "Processing epoch 24\n",
            "Processing epoch 0\n",
            "Processing epoch 1\n",
            "Processing epoch 2\n",
            "Processing epoch 3\n",
            "Processing epoch 4\n",
            "Processing epoch 5\n",
            "Processing epoch 6\n",
            "Processing epoch 7\n",
            "Processing epoch 8\n",
            "Processing epoch 9\n",
            "Processing epoch 10\n",
            "Processing epoch 11\n",
            "Processing epoch 12\n",
            "Processing epoch 13\n",
            "Processing epoch 14\n",
            "Processing epoch 15\n",
            "Processing epoch 16\n",
            "Processing epoch 17\n",
            "Processing epoch 18\n",
            "Processing epoch 19\n",
            "Processing epoch 20\n",
            "Processing epoch 21\n",
            "Processing epoch 22\n",
            "Processing epoch 23\n",
            "Processing epoch 24\n",
            "Processing epoch 0\n",
            "Processing epoch 1\n",
            "Processing epoch 2\n",
            "Processing epoch 3\n",
            "Processing epoch 4\n",
            "Processing epoch 5\n",
            "Processing epoch 6\n",
            "Processing epoch 7\n",
            "Processing epoch 8\n",
            "Processing epoch 9\n",
            "Processing epoch 10\n",
            "Processing epoch 11\n",
            "Processing epoch 12\n",
            "Processing epoch 13\n",
            "Processing epoch 14\n",
            "Processing epoch 15\n",
            "Processing epoch 16\n",
            "Processing epoch 17\n",
            "Processing epoch 18\n",
            "Processing epoch 19\n",
            "Processing epoch 20\n",
            "Processing epoch 21\n",
            "Processing epoch 22\n",
            "Processing epoch 23\n",
            "Processing epoch 24\n",
            "Evaluating RMSE, MAE of algorithm SVD on 5 split(s).\n",
            "\n",
            "                  Fold 1  Fold 2  Fold 3  Fold 4  Fold 5  Mean    Std     \n",
            "RMSE (testset)    0.8581  0.8717  0.8582  0.8538  0.8613  0.8606  0.0060  \n",
            "MAE (testset)     0.6597  0.6688  0.6590  0.6547  0.6582  0.6601  0.0047  \n",
            "Fit time          6.19    6.22    6.23    6.28    6.30    6.24    0.04    \n",
            "Test time         0.15    0.30    0.15    0.28    0.14    0.20    0.07    \n",
            "Training Done!\n"
          ],
          "name": "stdout"
        }
      ]
    },
    {
      "cell_type": "markdown",
      "metadata": {
        "id": "5dt02PgukGCq",
        "colab_type": "text"
      },
      "source": [
        "# **Task 7 : Predctions**"
      ]
    },
    {
      "cell_type": "markdown",
      "metadata": {
        "id": "h7xvNYZWkKeA",
        "colab_type": "text"
      },
      "source": [
        "**7.1: Predict ratings for all pairs(user, items) that are NOT in the training set**"
      ]
    },
    {
      "cell_type": "code",
      "metadata": {
        "id": "Wh1lK0Qyj1WK",
        "colab_type": "code",
        "colab": {}
      },
      "source": [
        "predictions = algo.test(antiset)"
      ],
      "execution_count": 27,
      "outputs": []
    },
    {
      "cell_type": "code",
      "metadata": {
        "id": "Vjvil0YQnCo9",
        "colab_type": "code",
        "colab": {
          "base_uri": "https://localhost:8080/",
          "height": 32
        },
        "outputId": "14c34c0e-816d-4f7a-ed98-498ded08c35a"
      },
      "source": [
        "predictions[0]"
      ],
      "execution_count": 28,
      "outputs": [
        {
          "output_type": "execute_result",
          "data": {
            "text/plain": [
              "Prediction(uid=1, iid=318, r_ui=3.529119856267723, est=5, details={'was_impossible': False})"
            ]
          },
          "metadata": {
            "tags": []
          },
          "execution_count": 28
        }
      ]
    },
    {
      "cell_type": "markdown",
      "metadata": {
        "id": "VCP0ZqSCkZE9",
        "colab_type": "text"
      },
      "source": [
        "**7.2: Recommending top 3 movies based on predictions**"
      ]
    },
    {
      "cell_type": "code",
      "metadata": {
        "id": "Kf847CyHm82j",
        "colab_type": "code",
        "colab": {
          "base_uri": "https://localhost:8080/",
          "height": 1000
        },
        "outputId": "c8938d8e-dca0-49d4-857d-998ec2215edf"
      },
      "source": [
        "from collections import defaultdict\n",
        "def get_top_n(predictions, n):\n",
        "    top_n = defaultdict(list)\n",
        "    for uid, iid, _, est, _ in predictions:\n",
        "        top_n[uid].append((iid, est))\n",
        "    for uid, user_ratings in top_n.items():\n",
        "        user_ratings.sort(key = lambda x: x[1], reverse = True)\n",
        "        top_n[uid] = user_ratings[:n]\n",
        "    return top_n\n",
        "    pass\n",
        "top_n = get_top_n(predictions, n=3)\n",
        "for uid, user_ratings in top_n.items():\n",
        "    print(uid, [iid for (iid, rating) in user_ratings])"
      ],
      "execution_count": 29,
      "outputs": [
        {
          "output_type": "stream",
          "text": [
            "1 [318, 1704, 68157]\n",
            "2 [2360, 1136, 904]\n",
            "3 [589, 79132, 1248]\n",
            "4 [4306, 106642, 1097]\n",
            "5 [2542, 1237, 904]\n",
            "6 [1250, 1234, 246]\n",
            "7 [1250, 908, 910]\n",
            "8 [5952, 4993, 1272]\n",
            "9 [318, 356, 858]\n",
            "10 [318, 898, 1204]\n",
            "11 [1089, 930, 58559]\n",
            "12 [6, 47, 50]\n",
            "13 [318, 1237, 1208]\n",
            "14 [168252, 8874, 4993]\n",
            "15 [922, 48516, 1283]\n",
            "16 [1233, 48516, 1266]\n",
            "17 [1262, 4973, 57669]\n",
            "18 [1225, 6016, 1283]\n",
            "19 [527, 318, 1204]\n",
            "20 [1196, 750, 1210]\n",
            "21 [1225, 930, 110]\n",
            "22 [608, 1262, 1148]\n",
            "23 [2959, 922, 1228]\n",
            "24 [904, 1104, 34405]\n",
            "25 [50, 110, 1196]\n",
            "26 [4878, 1219, 1104]\n",
            "27 [3435, 1283, 930]\n",
            "28 [912, 1178, 112552]\n",
            "29 [1283, 1276, 1104]\n",
            "30 [50, 296, 356]\n",
            "31 [260, 1283, 50]\n",
            "32 [1283, 58559, 3429]\n",
            "33 [56782, 904, 912]\n",
            "34 [1221, 2288, 44199]\n",
            "35 [1237, 930, 58559]\n",
            "36 [750, 1283, 1204]\n",
            "37 [2858, 2542, 904]\n",
            "38 [260, 1250, 1210]\n",
            "39 [1283, 1237, 1208]\n",
            "40 [1197, 2028, 1136]\n",
            "41 [1237, 898, 1281]\n",
            "42 [4973, 58559, 4878]\n",
            "43 [6, 50, 260]\n",
            "44 [1136, 1089, 904]\n",
            "45 [1206, 750, 1172]\n",
            "46 [2959, 1172, 541]\n",
            "47 [922, 50, 246]\n",
            "48 [318, 260, 1196]\n",
            "49 [48516, 1283, 904]\n",
            "50 [56782, 1228, 1104]\n",
            "51 [50, 296, 1208]\n",
            "52 [1136, 1283, 750]\n",
            "53 [6, 47, 50]\n",
            "54 [1283, 750, 1266]\n",
            "55 [2858, 1252, 908]\n",
            "56 [1199, 750, 904]\n",
            "57 [4973, 1214, 7153]\n",
            "58 [922, 1246, 930]\n",
            "59 [2858, 318, 1104]\n",
            "60 [1104, 1204, 4878]\n",
            "61 [2858, 858, 6]\n",
            "62 [1233, 1237, 1178]\n",
            "63 [56782, 5902, 1206]\n",
            "64 [1104, 1262, 1237]\n",
            "65 [1204, 951, 2160]\n",
            "66 [1104, 904, 56782]\n",
            "67 [904, 1193, 1221]\n",
            "68 [2360, 92535, 139644]\n",
            "69 [904, 1221, 1283]\n",
            "70 [1104, 260, 1276]\n",
            "71 [4226, 2959, 3535]\n",
            "72 [1233, 1237, 904]\n",
            "73 [296, 293, 1213]\n",
            "74 [1136, 904, 1104]\n",
            "75 [858, 1104, 1262]\n",
            "76 [903, 912, 63082]\n",
            "77 [930, 318, 527]\n",
            "78 [3022, 1136, 58559]\n",
            "79 [750, 1104, 903]\n",
            "80 [1283, 1204, 296]\n",
            "81 [2571, 527, 7153]\n",
            "82 [898, 913, 44555]\n",
            "83 [306, 1261, 1248]\n",
            "84 [1237, 2571, 5500]\n",
            "85 [318, 912, 593]\n",
            "86 [1225, 1204, 593]\n",
            "87 [260, 318, 1198]\n",
            "88 [260, 1283, 1089]\n",
            "89 [720, 1617, 903]\n",
            "90 [293, 47, 1089]\n",
            "91 [1732, 92259, 527]\n",
            "92 [1201, 50, 318]\n",
            "93 [1089, 1136, 1197]\n",
            "94 [1206, 930, 1199]\n",
            "95 [2959, 296, 4226]\n",
            "96 [318, 33166, 912]\n",
            "97 [260, 1197, 318]\n",
            "98 [2186, 922, 2959]\n",
            "99 [110, 930, 3429]\n",
            "100 [1283, 898, 57669]\n",
            "101 [1104, 56782, 1201]\n",
            "102 [1089, 1197, 778]\n",
            "103 [1204, 2019, 1283]\n",
            "104 [922, 5995, 1035]\n",
            "105 [1104, 1237, 1283]\n",
            "106 [50, 1089, 293]\n",
            "107 [1283, 1225, 48516]\n",
            "108 [1196, 1197, 318]\n",
            "109 [1213, 1198, 2571]\n",
            "110 [318, 2160, 1237]\n",
            "111 [922, 1278, 1208]\n",
            "112 [858, 1242, 4878]\n",
            "113 [3037, 1228, 953]\n",
            "114 [2571, 2959, 3949]\n",
            "115 [912, 1204, 293]\n",
            "116 [1283, 92259, 246]\n",
            "117 [1201, 260, 1233]\n",
            "118 [318, 4993, 1283]\n",
            "119 [912, 2160, 908]\n",
            "120 [1237, 2571, 1272]\n",
            "121 [4878, 593, 293]\n",
            "122 [527, 1198, 2858]\n",
            "123 [1104, 750, 110]\n",
            "124 [904, 1237, 2959]\n",
            "125 [1196, 1394, 1198]\n",
            "126 [1225, 1207, 1233]\n",
            "127 [1104, 1283, 318]\n",
            "128 [5618, 1178, 1259]\n",
            "129 [1283, 750, 904]\n",
            "130 [608, 750, 904]\n",
            "131 [898, 1283, 2160]\n",
            "132 [922, 1197, 1199]\n",
            "133 [1197, 1204, 904]\n",
            "134 [318, 4034, 1283]\n",
            "135 [7361, 904, 1248]\n",
            "136 [2571, 4878, 1212]\n",
            "137 [1104, 1276, 1148]\n",
            "138 [908, 1136, 1250]\n",
            "139 [1283, 1104, 750]\n",
            "140 [1283, 56782, 2959]\n",
            "141 [50, 1225, 898]\n",
            "142 [1104, 318, 904]\n",
            "143 [1204, 720, 74458]\n",
            "144 [608, 318, 1197]\n",
            "145 [904, 1136, 1197]\n",
            "146 [260, 912, 1206]\n",
            "147 [593, 908, 904]\n",
            "148 [904, 1225, 168252]\n",
            "149 [858, 7361, 1242]\n",
            "150 [2959, 318, 1104]\n",
            "151 [110, 750, 924]\n",
            "152 [112552, 1208, 898]\n",
            "153 [3681, 1213, 4144]\n",
            "154 [2959, 898, 4878]\n",
            "155 [922, 1704, 541]\n",
            "156 [2318, 2804, 6620]\n",
            "157 [858, 260, 1196]\n",
            "158 [1104, 7153, 750]\n",
            "159 [34405, 1272, 50]\n",
            "160 [1732, 1080, 7438]\n",
            "161 [296, 1617, 1237]\n",
            "162 [110, 2571, 1104]\n",
            "163 [3949, 2571, 1233]\n",
            "164 [593, 1104, 1204]\n",
            "165 [296, 7361, 46578]\n",
            "166 [1104, 58559, 1228]\n",
            "167 [56782, 1270, 2571]\n",
            "168 [904, 1104, 2959]\n",
            "169 [2959, 112552, 904]\n",
            "170 [1228, 1104, 1089]\n",
            "171 [527, 1219, 1278]\n",
            "172 [48516, 1233, 1237]\n",
            "173 [1233, 904, 1104]\n",
            "174 [1104, 1198, 1233]\n",
            "175 [318, 6016, 296]\n",
            "176 [1225, 4878, 1258]\n",
            "177 [4967, 1204, 745]\n",
            "178 [1104, 56782, 1258]\n",
            "179 [2324, 2160, 3429]\n",
            "180 [1199, 1266, 1225]\n",
            "181 [1225, 106642, 68954]\n",
            "182 [2797, 1333, 1387]\n",
            "183 [1104, 1228, 168252]\n",
            "184 [2959, 1201, 2019]\n",
            "185 [7361, 1136, 2160]\n",
            "186 [318, 3429, 6]\n",
            "187 [1212, 3730, 2019]\n",
            "188 [1136, 475, 1283]\n",
            "189 [4848, 1104, 4973]\n",
            "190 [898, 1104, 1201]\n",
            "191 [7361, 1148, 1104]\n",
            "192 [112552, 1234, 1225]\n",
            "193 [2160, 1104, 110]\n",
            "194 [2959, 858, 4226]\n",
            "195 [1242, 246, 11]\n",
            "196 [318, 1198, 898]\n",
            "197 [6, 2324, 92259]\n",
            "198 [6, 1208, 1953]\n",
            "199 [951, 866, 106642]\n",
            "200 [1136, 1206, 909]\n",
            "201 [2571, 318, 904]\n",
            "202 [2019, 951, 56782]\n",
            "203 [2959, 1104, 1210]\n",
            "204 [1079, 5618, 57669]\n",
            "205 [1225, 318, 110]\n",
            "206 [1201, 56782, 1197]\n",
            "207 [112552, 50, 541]\n",
            "208 [318, 56782, 1276]\n",
            "209 [1104, 246, 1217]\n",
            "210 [904, 1276, 750]\n",
            "211 [2324, 1617, 922]\n",
            "212 [527, 1233, 1104]\n",
            "213 [318, 1136, 1387]\n",
            "214 [110, 1208, 1198]\n",
            "215 [930, 1283, 2360]\n",
            "216 [2324, 318, 3429]\n",
            "217 [1283, 1233, 3429]\n",
            "218 [904, 2959, 318]\n",
            "219 [7387, 110, 1283]\n",
            "220 [593, 110, 1201]\n",
            "221 [1221, 1262, 3429]\n",
            "222 [1136, 750, 1617]\n",
            "223 [1204, 858, 527]\n",
            "224 [48516, 922, 930]\n",
            "225 [1283, 318, 1104]\n",
            "226 [1208, 4226, 3681]\n",
            "227 [922, 50, 7361]\n",
            "228 [1233, 745, 1089]\n",
            "229 [608, 2160, 1228]\n",
            "230 [750, 1237, 2571]\n",
            "231 [1283, 318, 750]\n",
            "232 [904, 1283, 1213]\n",
            "233 [1198, 1228, 1204]\n",
            "234 [527, 1136, 1104]\n",
            "235 [912, 750, 56782]\n",
            "236 [527, 1233, 1258]\n",
            "237 [541, 260, 2160]\n",
            "238 [1208, 318, 1233]\n",
            "239 [904, 1283, 750]\n",
            "240 [2324, 1228, 750]\n",
            "241 [1201, 3508, 3429]\n",
            "242 [898, 1136, 1079]\n",
            "243 [50, 1206, 1278]\n",
            "244 [1237, 1136, 2858]\n",
            "245 [1283, 1272, 56782]\n",
            "246 [1225, 898, 922]\n",
            "247 [1262, 1225, 3508]\n",
            "248 [356, 318, 904]\n",
            "249 [2288, 1208, 1283]\n",
            "250 [50, 858, 912]\n",
            "251 [50, 930, 1201]\n",
            "252 [1104, 904, 4144]\n",
            "253 [318, 1201, 1198]\n",
            "254 [1104, 44555, 1237]\n",
            "255 [908, 2959, 50]\n",
            "256 [904, 898, 1104]\n",
            "257 [318, 527, 2028]\n",
            "258 [50, 930, 1233]\n",
            "259 [56782, 1258, 1259]\n",
            "260 [1136, 108932, 1245]\n",
            "261 [4226, 527, 2959]\n",
            "262 [1136, 858, 2360]\n",
            "263 [750, 541, 930]\n",
            "264 [1104, 898, 2959]\n",
            "265 [1261, 5995, 58559]\n",
            "266 [55820, 47, 750]\n",
            "267 [4878, 1237, 4973]\n",
            "268 [1204, 1104, 58559]\n",
            "269 [2571, 2959, 1283]\n",
            "270 [1237, 58559, 1270]\n",
            "271 [2571, 260, 318]\n",
            "272 [1262, 356, 5618]\n",
            "273 [4226, 2959, 7361]\n",
            "274 [4973, 1204, 3022]\n",
            "275 [1104, 2203, 81932]\n",
            "276 [6, 50, 296]\n",
            "277 [2959, 1201, 1199]\n",
            "278 [593, 4878, 1272]\n",
            "279 [3471, 1265, 1212]\n",
            "280 [898, 904, 1283]\n",
            "281 [1225, 4973, 1233]\n",
            "282 [930, 306, 2160]\n",
            "283 [56782, 904, 1261]\n",
            "284 [1104, 750, 541]\n",
            "285 [908, 1233, 922]\n",
            "286 [318, 1228, 1104]\n",
            "287 [7153, 1225, 4226]\n",
            "288 [1089, 50, 68157]\n",
            "289 [898, 318, 1213]\n",
            "290 [1104, 56782, 5690]\n",
            "291 [2571, 3429, 1217]\n",
            "292 [1682, 54503, 1704]\n",
            "293 [1237, 1199, 750]\n",
            "294 [2762, 2571, 1252]\n",
            "295 [2858, 7153, 904]\n",
            "296 [364, 1237, 1104]\n",
            "297 [1208, 2028, 2959]\n",
            "298 [26133, 27611, 904]\n",
            "299 [1104, 3508, 1233]\n",
            "300 [1136, 1104, 750]\n",
            "301 [2959, 2542, 1206]\n",
            "302 [1136, 750, 904]\n",
            "303 [57669, 1278, 3429]\n",
            "304 [1225, 56782, 1104]\n",
            "305 [1104, 933, 4027]\n",
            "306 [296, 7361, 1204]\n",
            "307 [293, 1276, 1921]\n",
            "308 [3471, 3275, 3916]\n",
            "309 [260, 1196, 92259]\n",
            "310 [3435, 1136, 4226]\n",
            "311 [265, 68157, 50]\n",
            "312 [296, 318, 741]\n",
            "313 [1178, 5952, 5971]\n",
            "314 [1272, 4878, 1210]\n",
            "315 [260, 1104, 1206]\n",
            "316 [318, 1136, 1219]\n",
            "317 [741, 3429, 1953]\n",
            "318 [898, 1233, 28]\n",
            "319 [2858, 48516, 1136]\n",
            "320 [1197, 1204, 7361]\n",
            "321 [750, 112552, 2360]\n",
            "322 [170705, 1089, 1079]\n",
            "323 [858, 1201, 1213]\n",
            "324 [260, 1283, 904]\n",
            "325 [260, 912, 1221]\n",
            "326 [1228, 750, 1212]\n",
            "327 [904, 7153, 2571]\n",
            "328 [1272, 2858, 923]\n",
            "329 [922, 3429, 61240]\n",
            "330 [1276, 1237, 6620]\n",
            "331 [4226, 904, 2571]\n",
            "332 [1248, 1262, 1198]\n",
            "333 [1225, 318, 858]\n",
            "334 [1104, 50, 246]\n",
            "335 [750, 1617, 608]\n",
            "336 [1136, 904, 930]\n",
            "337 [1198, 1291, 1617]\n",
            "338 [1258, 904, 2160]\n",
            "339 [1225, 1196, 1136]\n",
            "340 [1136, 1204, 5902]\n",
            "341 [1104, 912, 2360]\n",
            "342 [318, 1221, 56782]\n",
            "343 [4973, 2324, 1104]\n",
            "344 [1041, 1291, 1208]\n",
            "345 [750, 904, 1228]\n",
            "346 [1104, 168252, 1233]\n",
            "347 [1104, 5618, 8368]\n",
            "348 [1089, 1258, 898]\n",
            "349 [58559, 904, 1283]\n",
            "350 [2571, 750, 318]\n",
            "351 [1221, 750, 1228]\n",
            "352 [1225, 7361, 1283]\n",
            "353 [1213, 7361, 1617]\n",
            "354 [1104, 306, 2160]\n",
            "355 [1283, 750, 318]\n",
            "356 [904, 527, 1225]\n",
            "357 [904, 5952, 1233]\n",
            "358 [4878, 318, 1228]\n",
            "359 [1262, 912, 2194]\n",
            "360 [1104, 2959, 110]\n",
            "361 [296, 1104, 750]\n",
            "362 [1237, 1104, 904]\n",
            "363 [1104, 4848, 1193]\n",
            "364 [2324, 1104, 1204]\n",
            "365 [1283, 1225, 908]\n",
            "366 [2571, 1276, 1237]\n",
            "367 [1283, 922, 7153]\n",
            "368 [4967, 7153, 318]\n",
            "369 [296, 27773, 50]\n",
            "370 [1104, 527, 908]\n",
            "371 [50, 356, 1089]\n",
            "372 [2858, 3429, 750]\n",
            "373 [4973, 2959, 134853]\n",
            "374 [50, 750, 3424]\n",
            "375 [296, 2571, 1136]\n",
            "376 [1283, 318, 246]\n",
            "377 [318, 1148, 750]\n",
            "378 [1104, 56782, 750]\n",
            "379 [750, 541, 92259]\n",
            "380 [1394, 3030, 1242]\n",
            "381 [527, 593, 58559]\n",
            "382 [1136, 4973, 904]\n",
            "383 [1212, 1233, 912]\n",
            "384 [4973, 7361, 318]\n",
            "385 [110, 1617, 2324]\n",
            "386 [904, 953, 260]\n",
            "387 [1233, 2028, 108932]\n",
            "388 [260, 318, 904]\n",
            "389 [50, 296, 1208]\n",
            "390 [1104, 4878, 750]\n",
            "391 [1387, 7361, 1272]\n",
            "392 [2571, 110, 1104]\n",
            "393 [112552, 1104, 7099]\n",
            "394 [318, 58559, 904]\n",
            "395 [930, 1225, 3996]\n",
            "396 [296, 1136, 2028]\n",
            "397 [4226, 2959, 2571]\n",
            "398 [541, 260, 56782]\n",
            "399 [1104, 50, 318]\n",
            "400 [1283, 1225, 930]\n",
            "401 [904, 318, 56782]\n",
            "402 [318, 904, 1221]\n",
            "403 [318, 1204, 58559]\n",
            "404 [1283, 4848, 2571]\n",
            "405 [2288, 318, 858]\n",
            "406 [589, 1283, 930]\n",
            "407 [1079, 1104, 1199]\n",
            "408 [1104, 2959, 904]\n",
            "409 [750, 441, 1945]\n",
            "410 [930, 1198, 898]\n",
            "411 [57669, 1272, 2571]\n",
            "412 [293, 750, 1283]\n",
            "413 [223, 1136, 1617]\n",
            "414 [3681, 1203, 1248]\n",
            "415 [2324, 1225, 1208]\n",
            "416 [4226, 7361, 1213]\n",
            "417 [260, 1196, 904]\n",
            "418 [4973, 2571, 1104]\n",
            "419 [223, 1732, 260]\n",
            "420 [1258, 2160, 1278]\n",
            "421 [2762, 260, 1283]\n",
            "422 [541, 1148, 1237]\n",
            "423 [58559, 1225, 3508]\n",
            "424 [1259, 720, 741]\n",
            "425 [1204, 1283, 1104]\n",
            "426 [1172, 898, 919]\n",
            "427 [1104, 3508, 318]\n",
            "428 [50, 1213, 27773]\n",
            "429 [356, 1210, 1213]\n",
            "430 [750, 1196, 50]\n",
            "431 [593, 4973, 1283]\n",
            "432 [750, 112552, 1233]\n",
            "433 [1104, 858, 1208]\n",
            "434 [122882, 912, 4973]\n",
            "435 [1196, 1104, 4878]\n",
            "436 [1258, 1262, 2360]\n",
            "437 [3429, 750, 1148]\n",
            "438 [1136, 1198, 3681]\n",
            "439 [50, 1221, 68157]\n",
            "440 [2160, 912, 318]\n",
            "441 [48516, 1276, 7361]\n",
            "442 [904, 1283, 6016]\n",
            "443 [50, 527, 904]\n",
            "444 [908, 1233, 1276]\n",
            "445 [1248, 1196, 858]\n",
            "446 [318, 1283, 3429]\n",
            "447 [1283, 1079, 1198]\n",
            "448 [27773, 4973, 55820]\n",
            "449 [1225, 593, 2571]\n",
            "450 [912, 904, 593]\n",
            "451 [1104, 750, 904]\n",
            "452 [50, 954, 1278]\n",
            "453 [1198, 7153, 1204]\n",
            "454 [318, 1278, 1204]\n",
            "455 [1258, 1104, 56782]\n",
            "456 [750, 1148, 1262]\n",
            "457 [527, 1204, 2571]\n",
            "458 [1104, 1228, 930]\n",
            "459 [1228, 1204, 318]\n",
            "460 [904, 1228, 858]\n",
            "461 [1272, 1197, 3451]\n",
            "462 [1193, 905, 111759]\n",
            "463 [1206, 318, 1283]\n",
            "464 [1283, 50, 1225]\n",
            "465 [50, 296, 318]\n",
            "466 [1237, 168252, 898]\n",
            "467 [1136, 318, 1212]\n",
            "468 [56782, 1104, 904]\n",
            "469 [7361, 56782, 1172]\n",
            "470 [1104, 1244, 1248]\n",
            "471 [912, 5618, 930]\n",
            "472 [1104, 1204, 527]\n",
            "473 [356, 904, 58559]\n",
            "474 [134130, 5500, 112552]\n",
            "475 [527, 608, 1213]\n",
            "476 [3508, 1203, 306]\n",
            "477 [3949, 1197, 2329]\n",
            "478 [750, 1208, 2959]\n",
            "479 [2959, 1201, 527]\n",
            "480 [912, 1201, 1262]\n",
            "481 [318, 1136, 750]\n",
            "482 [527, 318, 1213]\n",
            "483 [1208, 750, 1206]\n",
            "484 [1210, 908, 3681]\n",
            "485 [527, 318, 4993]\n",
            "486 [527, 1258, 4878]\n",
            "487 [778, 356, 1262]\n",
            "488 [1204, 33166, 1201]\n",
            "489 [318, 55820, 56782]\n",
            "490 [3910, 318, 904]\n",
            "491 [1104, 318, 2160]\n",
            "492 [318, 1259, 1237]\n",
            "493 [318, 1278, 4226]\n",
            "494 [904, 318, 1225]\n",
            "495 [296, 593, 923]\n",
            "496 [3681, 1210, 608]\n",
            "497 [1104, 1387, 56782]\n",
            "498 [1283, 1225, 930]\n",
            "499 [2858, 4878, 48516]\n",
            "500 [1283, 50, 4011]\n",
            "501 [1283, 306, 1104]\n",
            "502 [2924, 541, 1208]\n",
            "503 [293, 1748, 4848]\n",
            "504 [2571, 318, 541]\n",
            "505 [1136, 318, 1208]\n",
            "506 [898, 908, 2324]\n",
            "507 [1104, 318, 1283]\n",
            "508 [1237, 1288, 1198]\n",
            "509 [1104, 2959, 750]\n",
            "510 [1136, 56782, 2300]\n",
            "511 [50, 904, 1201]\n",
            "512 [541, 1208, 750]\n",
            "513 [1136, 1212, 48516]\n",
            "514 [1219, 912, 910]\n",
            "515 [1617, 2288, 904]\n",
            "516 [750, 1262, 1104]\n",
            "517 [7983, 471, 47610]\n",
            "518 [1201, 608, 1204]\n",
            "519 [1276, 1198, 593]\n",
            "520 [1283, 1258, 48516]\n",
            "521 [318, 2959, 1198]\n",
            "522 [1288, 293, 1204]\n",
            "523 [101, 1136, 1197]\n",
            "524 [2571, 4226, 7361]\n",
            "525 [1104, 1242, 1283]\n",
            "526 [1237, 904, 1276]\n",
            "527 [2571, 318, 4226]\n",
            "528 [858, 260, 1283]\n",
            "529 [1104, 7361, 44555]\n",
            "530 [1196, 1222, 1104]\n",
            "531 [2959, 5952, 1247]\n",
            "532 [1237, 1203, 912]\n",
            "533 [1196, 527, 1210]\n",
            "534 [1201, 2160, 1136]\n",
            "535 [1208, 951, 720]\n",
            "536 [1250, 4642, 1258]\n",
            "537 [2858, 922, 1237]\n",
            "538 [527, 318, 898]\n",
            "539 [904, 898, 2324]\n",
            "540 [318, 57669, 1204]\n",
            "541 [1278, 2571, 38061]\n",
            "542 [1374, 527, 457]\n",
            "543 [1, 6, 260]\n",
            "544 [318, 1225, 1266]\n",
            "545 [898, 1204, 904]\n",
            "546 [1204, 318, 142488]\n",
            "547 [2959, 750, 1291]\n",
            "548 [1136, 318, 904]\n",
            "549 [1248, 1237, 1136]\n",
            "550 [1089, 1387, 1242]\n",
            "551 [1258, 898, 1252]\n",
            "552 [260, 608, 1250]\n",
            "553 [4993, 5690, 112552]\n",
            "554 [2959, 3435, 112552]\n",
            "555 [58559, 48516, 1228]\n",
            "556 [1197, 7361, 1136]\n",
            "557 [912, 2858, 930]\n",
            "558 [1104, 112552, 1272]\n",
            "559 [2571, 2186, 904]\n",
            "560 [3681, 1213, 1248]\n",
            "561 [56782, 1219, 1201]\n",
            "562 [1237, 2160, 2329]\n",
            "563 [1104, 109487, 56782]\n",
            "564 [1237, 1233, 5690]\n",
            "565 [1258, 4973, 2959]\n",
            "566 [1387, 1250, 44555]\n",
            "567 [1136, 47, 1270]\n",
            "568 [5952, 1225, 260]\n",
            "569 [2959, 922, 1283]\n",
            "570 [1283, 2324, 3429]\n",
            "571 [2959, 912, 593]\n",
            "572 [296, 2959, 7361]\n",
            "573 [1246, 8368, 3275]\n",
            "574 [1262, 858, 750]\n",
            "575 [50, 3508, 7153]\n",
            "576 [50, 1258, 58559]\n",
            "577 [589, 50, 48516]\n",
            "578 [50, 2858, 1233]\n",
            "579 [750, 904, 112552]\n",
            "580 [1953, 79132, 81591]\n",
            "581 [858, 50, 296]\n",
            "582 [1089, 318, 1283]\n",
            "583 [1104, 922, 1204]\n",
            "584 [527, 2288, 898]\n",
            "585 [475, 1267, 246]\n",
            "586 [1258, 1617, 898]\n",
            "587 [56782, 3916, 1228]\n",
            "588 [6874, 1104, 3429]\n",
            "589 [904, 7438, 112552]\n",
            "590 [2019, 1104, 1222]\n",
            "591 [318, 110, 1196]\n",
            "592 [2571, 898, 1204]\n",
            "593 [750, 1206, 1732]\n",
            "594 [1258, 68157, 475]\n",
            "595 [58559, 527, 904]\n",
            "596 [912, 1104, 1172]\n",
            "597 [527, 475, 4973]\n",
            "598 [356, 170705, 922]\n",
            "599 [108932, 3508, 3429]\n",
            "600 [1104, 1208, 6016]\n",
            "601 [1233, 260, 1276]\n",
            "602 [79132, 1201, 2959]\n",
            "603 [3186, 1084, 318]\n",
            "604 [527, 318, 92259]\n",
            "605 [1207, 1104, 48516]\n",
            "606 [1283, 608, 58559]\n",
            "607 [1233, 904, 1283]\n",
            "608 [1945, 2726, 1884]\n",
            "609 [4226, 593, 56782]\n",
            "610 [2019, 1704, 6787]\n"
          ],
          "name": "stdout"
        }
      ]
    }
  ]
}